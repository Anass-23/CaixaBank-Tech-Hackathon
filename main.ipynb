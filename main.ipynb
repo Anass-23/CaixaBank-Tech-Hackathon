{
 "cells": [
  {
   "cell_type": "markdown",
   "metadata": {},
   "source": [
    "<h1 align=\"center\"><i><u><b>CaixaBank Tech Hackathon</i></u></b></h1>\n",
    "\n",
    "**Author:** *Anass Anhari*\n",
    "\n",
    "**Date:** *28/05/22*\n",
    "\n",
    "**Using:** *Anaconda3*"
   ]
  },
  {
   "cell_type": "code",
   "execution_count": 1,
   "metadata": {},
   "outputs": [
    {
     "name": "stdout",
     "output_type": "stream",
     "text": [
      "Note: you may need to restart the kernel to use updated packages.\n"
     ]
    }
   ],
   "source": [
    "# Requirements (Using anaconda3)\n",
    "%pip install -q mplfinance"
   ]
  },
  {
   "cell_type": "code",
   "execution_count": 2,
   "metadata": {},
   "outputs": [],
   "source": [
    "import pandas as pd\n",
    "import numpy as np\n",
    "import matplotlib.pyplot as plt\n",
    "import mplfinance as mplf\n",
    "\n",
    "%matplotlib inline"
   ]
  },
  {
   "cell_type": "markdown",
   "metadata": {},
   "source": [
    "# **Dataset**"
   ]
  },
  {
   "cell_type": "code",
   "execution_count": 3,
   "metadata": {},
   "outputs": [
    {
     "name": "stdout",
     "output_type": "stream",
     "text": [
      "Shape: (6554, 7)\n",
      "Open         float64\n",
      "High         float64\n",
      "Low          float64\n",
      "Close        float64\n",
      "Adj Close    float64\n",
      "Volume       float64\n",
      "Target         int64\n",
      "dtype: object\n"
     ]
    },
    {
     "data": {
      "text/html": [
       "<div>\n",
       "<style scoped>\n",
       "    .dataframe tbody tr th:only-of-type {\n",
       "        vertical-align: middle;\n",
       "    }\n",
       "\n",
       "    .dataframe tbody tr th {\n",
       "        vertical-align: top;\n",
       "    }\n",
       "\n",
       "    .dataframe thead th {\n",
       "        text-align: right;\n",
       "    }\n",
       "</style>\n",
       "<table border=\"1\" class=\"dataframe\">\n",
       "  <thead>\n",
       "    <tr style=\"text-align: right;\">\n",
       "      <th></th>\n",
       "      <th>Open</th>\n",
       "      <th>High</th>\n",
       "      <th>Low</th>\n",
       "      <th>Close</th>\n",
       "      <th>Adj Close</th>\n",
       "      <th>Volume</th>\n",
       "      <th>Target</th>\n",
       "    </tr>\n",
       "    <tr>\n",
       "      <th>Date</th>\n",
       "      <th></th>\n",
       "      <th></th>\n",
       "      <th></th>\n",
       "      <th></th>\n",
       "      <th></th>\n",
       "      <th></th>\n",
       "      <th></th>\n",
       "    </tr>\n",
       "  </thead>\n",
       "  <tbody>\n",
       "    <tr>\n",
       "      <th>1994-01-03</th>\n",
       "      <td>3615.199951</td>\n",
       "      <td>3654.699951</td>\n",
       "      <td>3581.000000</td>\n",
       "      <td>3654.500000</td>\n",
       "      <td>3654.496338</td>\n",
       "      <td>0.0</td>\n",
       "      <td>0</td>\n",
       "    </tr>\n",
       "    <tr>\n",
       "      <th>1994-01-04</th>\n",
       "      <td>3654.500000</td>\n",
       "      <td>3675.500000</td>\n",
       "      <td>3625.100098</td>\n",
       "      <td>3630.300049</td>\n",
       "      <td>3630.296387</td>\n",
       "      <td>0.0</td>\n",
       "      <td>1</td>\n",
       "    </tr>\n",
       "    <tr>\n",
       "      <th>1994-01-05</th>\n",
       "      <td>3625.199951</td>\n",
       "      <td>3625.199951</td>\n",
       "      <td>3583.399902</td>\n",
       "      <td>3621.199951</td>\n",
       "      <td>3621.196289</td>\n",
       "      <td>0.0</td>\n",
       "      <td>1</td>\n",
       "    </tr>\n",
       "    <tr>\n",
       "      <th>1994-01-06</th>\n",
       "      <td>NaN</td>\n",
       "      <td>NaN</td>\n",
       "      <td>NaN</td>\n",
       "      <td>NaN</td>\n",
       "      <td>NaN</td>\n",
       "      <td>NaN</td>\n",
       "      <td>0</td>\n",
       "    </tr>\n",
       "    <tr>\n",
       "      <th>1994-01-07</th>\n",
       "      <td>3621.199951</td>\n",
       "      <td>3644.399902</td>\n",
       "      <td>3598.699951</td>\n",
       "      <td>3636.399902</td>\n",
       "      <td>3636.396240</td>\n",
       "      <td>0.0</td>\n",
       "      <td>1</td>\n",
       "    </tr>\n",
       "    <tr>\n",
       "      <th>...</th>\n",
       "      <td>...</td>\n",
       "      <td>...</td>\n",
       "      <td>...</td>\n",
       "      <td>...</td>\n",
       "      <td>...</td>\n",
       "      <td>...</td>\n",
       "      <td>...</td>\n",
       "    </tr>\n",
       "    <tr>\n",
       "      <th>2019-05-24</th>\n",
       "      <td>9150.299805</td>\n",
       "      <td>9211.099609</td>\n",
       "      <td>9141.400391</td>\n",
       "      <td>9174.599609</td>\n",
       "      <td>9174.599609</td>\n",
       "      <td>121673100.0</td>\n",
       "      <td>0</td>\n",
       "    </tr>\n",
       "    <tr>\n",
       "      <th>2019-05-27</th>\n",
       "      <td>9225.900391</td>\n",
       "      <td>9294.599609</td>\n",
       "      <td>9204.700195</td>\n",
       "      <td>9216.400391</td>\n",
       "      <td>9216.400391</td>\n",
       "      <td>60178000.0</td>\n",
       "      <td>0</td>\n",
       "    </tr>\n",
       "    <tr>\n",
       "      <th>2019-05-28</th>\n",
       "      <td>9220.400391</td>\n",
       "      <td>9224.900391</td>\n",
       "      <td>9132.900391</td>\n",
       "      <td>9191.799805</td>\n",
       "      <td>9191.799805</td>\n",
       "      <td>218900800.0</td>\n",
       "      <td>0</td>\n",
       "    </tr>\n",
       "    <tr>\n",
       "      <th>2019-05-29</th>\n",
       "      <td>9113.200195</td>\n",
       "      <td>9116.700195</td>\n",
       "      <td>9035.099609</td>\n",
       "      <td>9080.500000</td>\n",
       "      <td>9080.500000</td>\n",
       "      <td>148987100.0</td>\n",
       "      <td>0</td>\n",
       "    </tr>\n",
       "    <tr>\n",
       "      <th>2019-05-30</th>\n",
       "      <td>9120.799805</td>\n",
       "      <td>9175.200195</td>\n",
       "      <td>9114.099609</td>\n",
       "      <td>9157.799805</td>\n",
       "      <td>9157.799805</td>\n",
       "      <td>101389200.0</td>\n",
       "      <td>0</td>\n",
       "    </tr>\n",
       "  </tbody>\n",
       "</table>\n",
       "<p>6554 rows × 7 columns</p>\n",
       "</div>"
      ],
      "text/plain": [
       "                   Open         High          Low        Close    Adj Close  \\\n",
       "Date                                                                          \n",
       "1994-01-03  3615.199951  3654.699951  3581.000000  3654.500000  3654.496338   \n",
       "1994-01-04  3654.500000  3675.500000  3625.100098  3630.300049  3630.296387   \n",
       "1994-01-05  3625.199951  3625.199951  3583.399902  3621.199951  3621.196289   \n",
       "1994-01-06          NaN          NaN          NaN          NaN          NaN   \n",
       "1994-01-07  3621.199951  3644.399902  3598.699951  3636.399902  3636.396240   \n",
       "...                 ...          ...          ...          ...          ...   \n",
       "2019-05-24  9150.299805  9211.099609  9141.400391  9174.599609  9174.599609   \n",
       "2019-05-27  9225.900391  9294.599609  9204.700195  9216.400391  9216.400391   \n",
       "2019-05-28  9220.400391  9224.900391  9132.900391  9191.799805  9191.799805   \n",
       "2019-05-29  9113.200195  9116.700195  9035.099609  9080.500000  9080.500000   \n",
       "2019-05-30  9120.799805  9175.200195  9114.099609  9157.799805  9157.799805   \n",
       "\n",
       "                 Volume  Target  \n",
       "Date                             \n",
       "1994-01-03          0.0       0  \n",
       "1994-01-04          0.0       1  \n",
       "1994-01-05          0.0       1  \n",
       "1994-01-06          NaN       0  \n",
       "1994-01-07          0.0       1  \n",
       "...                 ...     ...  \n",
       "2019-05-24  121673100.0       0  \n",
       "2019-05-27   60178000.0       0  \n",
       "2019-05-28  218900800.0       0  \n",
       "2019-05-29  148987100.0       0  \n",
       "2019-05-30  101389200.0       0  \n",
       "\n",
       "[6554 rows x 7 columns]"
      ]
     },
     "execution_count": 3,
     "metadata": {},
     "output_type": "execute_result"
    }
   ],
   "source": [
    "df_train = pd.read_csv('train.csv', index_col=0, parse_dates=True)\n",
    "\n",
    "# Headers\n",
    "DATE       = 'Date'\n",
    "OPEN       = 'Open'\n",
    "HIGH       = 'High'\n",
    "LOW        = 'Low'\n",
    "CLOSE      = 'Close'\n",
    "ADJ_CLOSE  = 'Adj Close'\n",
    "VOLUME     = 'Volume'\n",
    "TARGET     = 'Target'\n",
    "TEST_INDEX = 'test_index'\n",
    "\n",
    "print(f'Shape: {df_train.shape}')\n",
    "print(df_train.dtypes)\n",
    "df_train"
   ]
  },
  {
   "cell_type": "markdown",
   "metadata": {},
   "source": [
    "# **Data formatting**\n",
    "*We could either replace all rows with empty fields (aka NaN) with 0.0 or drop them from the data set*"
   ]
  },
  {
   "cell_type": "code",
   "execution_count": 4,
   "metadata": {},
   "outputs": [
    {
     "data": {
      "text/html": [
       "<div>\n",
       "<style scoped>\n",
       "    .dataframe tbody tr th:only-of-type {\n",
       "        vertical-align: middle;\n",
       "    }\n",
       "\n",
       "    .dataframe tbody tr th {\n",
       "        vertical-align: top;\n",
       "    }\n",
       "\n",
       "    .dataframe thead th {\n",
       "        text-align: right;\n",
       "    }\n",
       "</style>\n",
       "<table border=\"1\" class=\"dataframe\">\n",
       "  <thead>\n",
       "    <tr style=\"text-align: right;\">\n",
       "      <th></th>\n",
       "      <th>Open</th>\n",
       "      <th>High</th>\n",
       "      <th>Low</th>\n",
       "      <th>Close</th>\n",
       "      <th>Adj Close</th>\n",
       "      <th>Volume</th>\n",
       "      <th>Target</th>\n",
       "    </tr>\n",
       "    <tr>\n",
       "      <th>Date</th>\n",
       "      <th></th>\n",
       "      <th></th>\n",
       "      <th></th>\n",
       "      <th></th>\n",
       "      <th></th>\n",
       "      <th></th>\n",
       "      <th></th>\n",
       "    </tr>\n",
       "  </thead>\n",
       "  <tbody>\n",
       "    <tr>\n",
       "      <th>1994-01-03</th>\n",
       "      <td>3615.199951</td>\n",
       "      <td>3654.699951</td>\n",
       "      <td>3581.000000</td>\n",
       "      <td>3654.500000</td>\n",
       "      <td>3654.496338</td>\n",
       "      <td>0.0</td>\n",
       "      <td>0</td>\n",
       "    </tr>\n",
       "    <tr>\n",
       "      <th>1994-01-04</th>\n",
       "      <td>3654.500000</td>\n",
       "      <td>3675.500000</td>\n",
       "      <td>3625.100098</td>\n",
       "      <td>3630.300049</td>\n",
       "      <td>3630.296387</td>\n",
       "      <td>0.0</td>\n",
       "      <td>1</td>\n",
       "    </tr>\n",
       "    <tr>\n",
       "      <th>1994-01-05</th>\n",
       "      <td>3625.199951</td>\n",
       "      <td>3625.199951</td>\n",
       "      <td>3583.399902</td>\n",
       "      <td>3621.199951</td>\n",
       "      <td>3621.196289</td>\n",
       "      <td>0.0</td>\n",
       "      <td>1</td>\n",
       "    </tr>\n",
       "    <tr>\n",
       "      <th>1994-01-07</th>\n",
       "      <td>3621.199951</td>\n",
       "      <td>3644.399902</td>\n",
       "      <td>3598.699951</td>\n",
       "      <td>3636.399902</td>\n",
       "      <td>3636.396240</td>\n",
       "      <td>0.0</td>\n",
       "      <td>1</td>\n",
       "    </tr>\n",
       "    <tr>\n",
       "      <th>1994-01-10</th>\n",
       "      <td>3655.199951</td>\n",
       "      <td>3678.199951</td>\n",
       "      <td>3655.199951</td>\n",
       "      <td>3660.600098</td>\n",
       "      <td>3660.596436</td>\n",
       "      <td>0.0</td>\n",
       "      <td>1</td>\n",
       "    </tr>\n",
       "    <tr>\n",
       "      <th>...</th>\n",
       "      <td>...</td>\n",
       "      <td>...</td>\n",
       "      <td>...</td>\n",
       "      <td>...</td>\n",
       "      <td>...</td>\n",
       "      <td>...</td>\n",
       "      <td>...</td>\n",
       "    </tr>\n",
       "    <tr>\n",
       "      <th>2019-05-24</th>\n",
       "      <td>9150.299805</td>\n",
       "      <td>9211.099609</td>\n",
       "      <td>9141.400391</td>\n",
       "      <td>9174.599609</td>\n",
       "      <td>9174.599609</td>\n",
       "      <td>121673100.0</td>\n",
       "      <td>0</td>\n",
       "    </tr>\n",
       "    <tr>\n",
       "      <th>2019-05-27</th>\n",
       "      <td>9225.900391</td>\n",
       "      <td>9294.599609</td>\n",
       "      <td>9204.700195</td>\n",
       "      <td>9216.400391</td>\n",
       "      <td>9216.400391</td>\n",
       "      <td>60178000.0</td>\n",
       "      <td>0</td>\n",
       "    </tr>\n",
       "    <tr>\n",
       "      <th>2019-05-28</th>\n",
       "      <td>9220.400391</td>\n",
       "      <td>9224.900391</td>\n",
       "      <td>9132.900391</td>\n",
       "      <td>9191.799805</td>\n",
       "      <td>9191.799805</td>\n",
       "      <td>218900800.0</td>\n",
       "      <td>0</td>\n",
       "    </tr>\n",
       "    <tr>\n",
       "      <th>2019-05-29</th>\n",
       "      <td>9113.200195</td>\n",
       "      <td>9116.700195</td>\n",
       "      <td>9035.099609</td>\n",
       "      <td>9080.500000</td>\n",
       "      <td>9080.500000</td>\n",
       "      <td>148987100.0</td>\n",
       "      <td>0</td>\n",
       "    </tr>\n",
       "    <tr>\n",
       "      <th>2019-05-30</th>\n",
       "      <td>9120.799805</td>\n",
       "      <td>9175.200195</td>\n",
       "      <td>9114.099609</td>\n",
       "      <td>9157.799805</td>\n",
       "      <td>9157.799805</td>\n",
       "      <td>101389200.0</td>\n",
       "      <td>0</td>\n",
       "    </tr>\n",
       "  </tbody>\n",
       "</table>\n",
       "<p>6421 rows × 7 columns</p>\n",
       "</div>"
      ],
      "text/plain": [
       "                   Open         High          Low        Close    Adj Close  \\\n",
       "Date                                                                          \n",
       "1994-01-03  3615.199951  3654.699951  3581.000000  3654.500000  3654.496338   \n",
       "1994-01-04  3654.500000  3675.500000  3625.100098  3630.300049  3630.296387   \n",
       "1994-01-05  3625.199951  3625.199951  3583.399902  3621.199951  3621.196289   \n",
       "1994-01-07  3621.199951  3644.399902  3598.699951  3636.399902  3636.396240   \n",
       "1994-01-10  3655.199951  3678.199951  3655.199951  3660.600098  3660.596436   \n",
       "...                 ...          ...          ...          ...          ...   \n",
       "2019-05-24  9150.299805  9211.099609  9141.400391  9174.599609  9174.599609   \n",
       "2019-05-27  9225.900391  9294.599609  9204.700195  9216.400391  9216.400391   \n",
       "2019-05-28  9220.400391  9224.900391  9132.900391  9191.799805  9191.799805   \n",
       "2019-05-29  9113.200195  9116.700195  9035.099609  9080.500000  9080.500000   \n",
       "2019-05-30  9120.799805  9175.200195  9114.099609  9157.799805  9157.799805   \n",
       "\n",
       "                 Volume  Target  \n",
       "Date                             \n",
       "1994-01-03          0.0       0  \n",
       "1994-01-04          0.0       1  \n",
       "1994-01-05          0.0       1  \n",
       "1994-01-07          0.0       1  \n",
       "1994-01-10          0.0       1  \n",
       "...                 ...     ...  \n",
       "2019-05-24  121673100.0       0  \n",
       "2019-05-27   60178000.0       0  \n",
       "2019-05-28  218900800.0       0  \n",
       "2019-05-29  148987100.0       0  \n",
       "2019-05-30  101389200.0       0  \n",
       "\n",
       "[6421 rows x 7 columns]"
      ]
     },
     "execution_count": 4,
     "metadata": {},
     "output_type": "execute_result"
    }
   ],
   "source": [
    "df_train = df_train.dropna(axis=0, how='any')\n",
    "df_train"
   ]
  },
  {
   "cell_type": "markdown",
   "metadata": {},
   "source": [
    "## **Simple analysis of the problem**"
   ]
  },
  {
   "cell_type": "code",
   "execution_count": 5,
   "metadata": {},
   "outputs": [
    {
     "data": {
      "image/png": "[encoded data removed]",
      "text/plain": [
       "<Figure size 800x575 with 2 Axes>"
      ]
     },
     "metadata": {},
     "output_type": "display_data"
    },
    {
     "data": {
      "image/png": "[encoded data removed]",
      "text/plain": [
       "<Figure size 800x575 with 2 Axes>"
      ]
     },
     "metadata": {},
     "output_type": "display_data"
    },
    {
     "data": {
      "text/plain": [
       "[<matplotlib.lines.Line2D at 0x7f9461c1e970>]"
      ]
     },
     "execution_count": 5,
     "metadata": {},
     "output_type": "execute_result"
    },
    {
     "data": {
      "image/png": "[encoded data removed]",
      "text/plain": [
       "<Figure size 640x480 with 1 Axes>"
      ]
     },
     "metadata": {},
     "output_type": "display_data"
    }
   ],
   "source": [
    "# df_train.index = pd.DatetimeIndex(df_train['Date'])\n",
    "\n",
    "mplf.plot(\n",
    "    df_train.iloc[:100,:],\n",
    "    type='candle',\n",
    "    title='IBEX35',\n",
    "    style='charles',\n",
    "    ylabel='Price',\n",
    ")\n",
    "\n",
    "mplf.plot(\n",
    "    df_train,\n",
    "    type='candle',\n",
    "    title='IBEX35',\n",
    "    style='charles',\n",
    "    ylabel='Price',\n",
    "    warn_too_much_data=len(df_train)\n",
    ")\n",
    "\n",
    "plt.plot(df_train.index, df_train[CLOSE])"
   ]
  },
  {
   "cell_type": "markdown",
   "metadata": {},
   "source": [
    "For now, we know that the stock market (aka IBEX35) tends to be very volatile.\n",
    "\n",
    "But, that does not mean that the prediction is impossible. So, we want to predict a $target$  that defines:\n",
    "\n",
    "\\begin{gather}\n",
    "target (boolean) = close_{day+3} > close_{day}\n",
    "\\end{gather}\n",
    "\n",
    "The strategy of working of ML/AI it's very experimental, so, we could think about different aproaches:\n",
    "\n",
    "1) *Classification*. We want a target/vector *[y] (1 x 1)* defining a boolean for each vector *[X] (N x 1)*, this boolean just tells us if the closing price 3 days ahead will be greater than the actual day. Thats why we could think about a classification model, classifying for each vectory *[X]* the target (True/False or 1/0). \n",
    "\n",
    "2) *Regression*. It's a good idea to test a regression in base of the closing price. Predict the closing price 3 days ahead. So, cheking thr actual price and the price 3 days later we could determinate the *target* value.\n",
    "\n",
    "3) *Time Series*. Analysing and forecasting the \n",
    "\n",
    "Just for fun we'll try the first approoach because it is very simple to generate the model, the second approcach we could get more important results and surely using the third strategy we'll obtain better results (more difficult and with a more complex analysis) using moving average... thecniques from events happened on the past for being able to predict the stock price 3 days ahead."
   ]
  },
  {
   "cell_type": "markdown",
   "metadata": {},
   "source": [
    "# **Testing Data**\n",
    "\n",
    "Before continuing, the file **test_x.csv** does not contain the *target* column that we need for evaluating our model predictions performance"
   ]
  },
  {
   "cell_type": "code",
   "execution_count": 6,
   "metadata": {},
   "outputs": [
    {
     "data": {
      "text/html": [
       "<div>\n",
       "<style scoped>\n",
       "    .dataframe tbody tr th:only-of-type {\n",
       "        vertical-align: middle;\n",
       "    }\n",
       "\n",
       "    .dataframe tbody tr th {\n",
       "        vertical-align: top;\n",
       "    }\n",
       "\n",
       "    .dataframe thead th {\n",
       "        text-align: right;\n",
       "    }\n",
       "</style>\n",
       "<table border=\"1\" class=\"dataframe\">\n",
       "  <thead>\n",
       "    <tr style=\"text-align: right;\">\n",
       "      <th></th>\n",
       "      <th>Date</th>\n",
       "      <th>Open</th>\n",
       "      <th>High</th>\n",
       "      <th>Low</th>\n",
       "      <th>Close</th>\n",
       "      <th>Adj Close</th>\n",
       "      <th>Volume</th>\n",
       "    </tr>\n",
       "    <tr>\n",
       "      <th>test_index</th>\n",
       "      <th></th>\n",
       "      <th></th>\n",
       "      <th></th>\n",
       "      <th></th>\n",
       "      <th></th>\n",
       "      <th></th>\n",
       "      <th></th>\n",
       "    </tr>\n",
       "  </thead>\n",
       "  <tbody>\n",
       "    <tr>\n",
       "      <th>6557</th>\n",
       "      <td>2019-06-05</td>\n",
       "      <td>9136.799805</td>\n",
       "      <td>9173.400391</td>\n",
       "      <td>9095.000000</td>\n",
       "      <td>9150.500000</td>\n",
       "      <td>9150.500000</td>\n",
       "      <td>158753000.0</td>\n",
       "    </tr>\n",
       "    <tr>\n",
       "      <th>6558</th>\n",
       "      <td>2019-06-06</td>\n",
       "      <td>9169.200195</td>\n",
       "      <td>9246.200195</td>\n",
       "      <td>9136.700195</td>\n",
       "      <td>9169.200195</td>\n",
       "      <td>9169.200195</td>\n",
       "      <td>212720900.0</td>\n",
       "    </tr>\n",
       "    <tr>\n",
       "      <th>6559</th>\n",
       "      <td>2019-06-07</td>\n",
       "      <td>9186.700195</td>\n",
       "      <td>9261.400391</td>\n",
       "      <td>9185.700195</td>\n",
       "      <td>9236.099609</td>\n",
       "      <td>9236.099609</td>\n",
       "      <td>150664700.0</td>\n",
       "    </tr>\n",
       "    <tr>\n",
       "      <th>6560</th>\n",
       "      <td>2019-06-10</td>\n",
       "      <td>9284.200195</td>\n",
       "      <td>9302.200195</td>\n",
       "      <td>9248.099609</td>\n",
       "      <td>9294.099609</td>\n",
       "      <td>9294.099609</td>\n",
       "      <td>102323700.0</td>\n",
       "    </tr>\n",
       "    <tr>\n",
       "      <th>6561</th>\n",
       "      <td>2019-06-11</td>\n",
       "      <td>9288.599609</td>\n",
       "      <td>9332.500000</td>\n",
       "      <td>9273.400391</td>\n",
       "      <td>9282.099609</td>\n",
       "      <td>9282.099609</td>\n",
       "      <td>144701200.0</td>\n",
       "    </tr>\n",
       "    <tr>\n",
       "      <th>...</th>\n",
       "      <td>...</td>\n",
       "      <td>...</td>\n",
       "      <td>...</td>\n",
       "      <td>...</td>\n",
       "      <td>...</td>\n",
       "      <td>...</td>\n",
       "      <td>...</td>\n",
       "    </tr>\n",
       "    <tr>\n",
       "      <th>7278</th>\n",
       "      <td>2022-03-25</td>\n",
       "      <td>8314.099609</td>\n",
       "      <td>8363.200195</td>\n",
       "      <td>8286.500000</td>\n",
       "      <td>8330.599609</td>\n",
       "      <td>8330.599609</td>\n",
       "      <td>156189000.0</td>\n",
       "    </tr>\n",
       "    <tr>\n",
       "      <th>7279</th>\n",
       "      <td>2022-03-28</td>\n",
       "      <td>8354.400391</td>\n",
       "      <td>8485.700195</td>\n",
       "      <td>8354.400391</td>\n",
       "      <td>8365.599609</td>\n",
       "      <td>8365.599609</td>\n",
       "      <td>167961800.0</td>\n",
       "    </tr>\n",
       "    <tr>\n",
       "      <th>7280</th>\n",
       "      <td>2022-03-29</td>\n",
       "      <td>8451.000000</td>\n",
       "      <td>8621.000000</td>\n",
       "      <td>8419.700195</td>\n",
       "      <td>8614.599609</td>\n",
       "      <td>8614.599609</td>\n",
       "      <td>257812200.0</td>\n",
       "    </tr>\n",
       "    <tr>\n",
       "      <th>7281</th>\n",
       "      <td>2022-03-30</td>\n",
       "      <td>8583.299805</td>\n",
       "      <td>8597.400391</td>\n",
       "      <td>8508.900391</td>\n",
       "      <td>8550.599609</td>\n",
       "      <td>8550.599609</td>\n",
       "      <td>185389000.0</td>\n",
       "    </tr>\n",
       "    <tr>\n",
       "      <th>7282</th>\n",
       "      <td>2022-03-31</td>\n",
       "      <td>8562.599609</td>\n",
       "      <td>8588.299805</td>\n",
       "      <td>8445.099609</td>\n",
       "      <td>8445.099609</td>\n",
       "      <td>8445.099609</td>\n",
       "      <td>220117500.0</td>\n",
       "    </tr>\n",
       "  </tbody>\n",
       "</table>\n",
       "<p>726 rows × 7 columns</p>\n",
       "</div>"
      ],
      "text/plain": [
       "                  Date         Open         High          Low        Close  \\\n",
       "test_index                                                                   \n",
       "6557        2019-06-05  9136.799805  9173.400391  9095.000000  9150.500000   \n",
       "6558        2019-06-06  9169.200195  9246.200195  9136.700195  9169.200195   \n",
       "6559        2019-06-07  9186.700195  9261.400391  9185.700195  9236.099609   \n",
       "6560        2019-06-10  9284.200195  9302.200195  9248.099609  9294.099609   \n",
       "6561        2019-06-11  9288.599609  9332.500000  9273.400391  9282.099609   \n",
       "...                ...          ...          ...          ...          ...   \n",
       "7278        2022-03-25  8314.099609  8363.200195  8286.500000  8330.599609   \n",
       "7279        2022-03-28  8354.400391  8485.700195  8354.400391  8365.599609   \n",
       "7280        2022-03-29  8451.000000  8621.000000  8419.700195  8614.599609   \n",
       "7281        2022-03-30  8583.299805  8597.400391  8508.900391  8550.599609   \n",
       "7282        2022-03-31  8562.599609  8588.299805  8445.099609  8445.099609   \n",
       "\n",
       "              Adj Close       Volume  \n",
       "test_index                            \n",
       "6557        9150.500000  158753000.0  \n",
       "6558        9169.200195  212720900.0  \n",
       "6559        9236.099609  150664700.0  \n",
       "6560        9294.099609  102323700.0  \n",
       "6561        9282.099609  144701200.0  \n",
       "...                 ...          ...  \n",
       "7278        8330.599609  156189000.0  \n",
       "7279        8365.599609  167961800.0  \n",
       "7280        8614.599609  257812200.0  \n",
       "7281        8550.599609  185389000.0  \n",
       "7282        8445.099609  220117500.0  \n",
       "\n",
       "[726 rows x 7 columns]"
      ]
     },
     "execution_count": 6,
     "metadata": {},
     "output_type": "execute_result"
    }
   ],
   "source": [
    "df_test = pd.read_csv('test_x.csv', index_col=0)\n",
    "df_test"
   ]
  },
  {
   "cell_type": "code",
   "execution_count": 7,
   "metadata": {},
   "outputs": [
    {
     "data": {
      "text/html": [
       "<div>\n",
       "<style scoped>\n",
       "    .dataframe tbody tr th:only-of-type {\n",
       "        vertical-align: middle;\n",
       "    }\n",
       "\n",
       "    .dataframe tbody tr th {\n",
       "        vertical-align: top;\n",
       "    }\n",
       "\n",
       "    .dataframe thead th {\n",
       "        text-align: right;\n",
       "    }\n",
       "</style>\n",
       "<table border=\"1\" class=\"dataframe\">\n",
       "  <thead>\n",
       "    <tr style=\"text-align: right;\">\n",
       "      <th></th>\n",
       "      <th>Date</th>\n",
       "      <th>Open</th>\n",
       "      <th>High</th>\n",
       "      <th>Low</th>\n",
       "      <th>Close</th>\n",
       "      <th>Adj Close</th>\n",
       "      <th>Volume</th>\n",
       "      <th>Target</th>\n",
       "    </tr>\n",
       "    <tr>\n",
       "      <th>test_index</th>\n",
       "      <th></th>\n",
       "      <th></th>\n",
       "      <th></th>\n",
       "      <th></th>\n",
       "      <th></th>\n",
       "      <th></th>\n",
       "      <th></th>\n",
       "      <th></th>\n",
       "    </tr>\n",
       "  </thead>\n",
       "  <tbody>\n",
       "    <tr>\n",
       "      <th>6557</th>\n",
       "      <td>2019-06-05</td>\n",
       "      <td>9136.799805</td>\n",
       "      <td>9173.400391</td>\n",
       "      <td>9095.000000</td>\n",
       "      <td>9150.500000</td>\n",
       "      <td>9150.500000</td>\n",
       "      <td>158753000.0</td>\n",
       "      <td>1</td>\n",
       "    </tr>\n",
       "    <tr>\n",
       "      <th>6558</th>\n",
       "      <td>2019-06-06</td>\n",
       "      <td>9169.200195</td>\n",
       "      <td>9246.200195</td>\n",
       "      <td>9136.700195</td>\n",
       "      <td>9169.200195</td>\n",
       "      <td>9169.200195</td>\n",
       "      <td>212720900.0</td>\n",
       "      <td>1</td>\n",
       "    </tr>\n",
       "    <tr>\n",
       "      <th>6559</th>\n",
       "      <td>2019-06-07</td>\n",
       "      <td>9186.700195</td>\n",
       "      <td>9261.400391</td>\n",
       "      <td>9185.700195</td>\n",
       "      <td>9236.099609</td>\n",
       "      <td>9236.099609</td>\n",
       "      <td>150664700.0</td>\n",
       "      <td>1</td>\n",
       "    </tr>\n",
       "    <tr>\n",
       "      <th>6560</th>\n",
       "      <td>2019-06-10</td>\n",
       "      <td>9284.200195</td>\n",
       "      <td>9302.200195</td>\n",
       "      <td>9248.099609</td>\n",
       "      <td>9294.099609</td>\n",
       "      <td>9294.099609</td>\n",
       "      <td>102323700.0</td>\n",
       "      <td>0</td>\n",
       "    </tr>\n",
       "    <tr>\n",
       "      <th>6561</th>\n",
       "      <td>2019-06-11</td>\n",
       "      <td>9288.599609</td>\n",
       "      <td>9332.500000</td>\n",
       "      <td>9273.400391</td>\n",
       "      <td>9282.099609</td>\n",
       "      <td>9282.099609</td>\n",
       "      <td>144701200.0</td>\n",
       "      <td>0</td>\n",
       "    </tr>\n",
       "    <tr>\n",
       "      <th>...</th>\n",
       "      <td>...</td>\n",
       "      <td>...</td>\n",
       "      <td>...</td>\n",
       "      <td>...</td>\n",
       "      <td>...</td>\n",
       "      <td>...</td>\n",
       "      <td>...</td>\n",
       "      <td>...</td>\n",
       "    </tr>\n",
       "    <tr>\n",
       "      <th>7278</th>\n",
       "      <td>2022-03-25</td>\n",
       "      <td>8314.099609</td>\n",
       "      <td>8363.200195</td>\n",
       "      <td>8286.500000</td>\n",
       "      <td>8330.599609</td>\n",
       "      <td>8330.599609</td>\n",
       "      <td>156189000.0</td>\n",
       "      <td>1</td>\n",
       "    </tr>\n",
       "    <tr>\n",
       "      <th>7279</th>\n",
       "      <td>2022-03-28</td>\n",
       "      <td>8354.400391</td>\n",
       "      <td>8485.700195</td>\n",
       "      <td>8354.400391</td>\n",
       "      <td>8365.599609</td>\n",
       "      <td>8365.599609</td>\n",
       "      <td>167961800.0</td>\n",
       "      <td>1</td>\n",
       "    </tr>\n",
       "    <tr>\n",
       "      <th>7280</th>\n",
       "      <td>2022-03-29</td>\n",
       "      <td>8451.000000</td>\n",
       "      <td>8621.000000</td>\n",
       "      <td>8419.700195</td>\n",
       "      <td>8614.599609</td>\n",
       "      <td>8614.599609</td>\n",
       "      <td>257812200.0</td>\n",
       "      <td>0</td>\n",
       "    </tr>\n",
       "    <tr>\n",
       "      <th>7281</th>\n",
       "      <td>2022-03-30</td>\n",
       "      <td>8583.299805</td>\n",
       "      <td>8597.400391</td>\n",
       "      <td>8508.900391</td>\n",
       "      <td>8550.599609</td>\n",
       "      <td>8550.599609</td>\n",
       "      <td>185389000.0</td>\n",
       "      <td>0</td>\n",
       "    </tr>\n",
       "    <tr>\n",
       "      <th>7282</th>\n",
       "      <td>2022-03-31</td>\n",
       "      <td>8562.599609</td>\n",
       "      <td>8588.299805</td>\n",
       "      <td>8445.099609</td>\n",
       "      <td>8445.099609</td>\n",
       "      <td>8445.099609</td>\n",
       "      <td>220117500.0</td>\n",
       "      <td>0</td>\n",
       "    </tr>\n",
       "  </tbody>\n",
       "</table>\n",
       "<p>726 rows × 8 columns</p>\n",
       "</div>"
      ],
      "text/plain": [
       "                  Date         Open         High          Low        Close  \\\n",
       "test_index                                                                   \n",
       "6557        2019-06-05  9136.799805  9173.400391  9095.000000  9150.500000   \n",
       "6558        2019-06-06  9169.200195  9246.200195  9136.700195  9169.200195   \n",
       "6559        2019-06-07  9186.700195  9261.400391  9185.700195  9236.099609   \n",
       "6560        2019-06-10  9284.200195  9302.200195  9248.099609  9294.099609   \n",
       "6561        2019-06-11  9288.599609  9332.500000  9273.400391  9282.099609   \n",
       "...                ...          ...          ...          ...          ...   \n",
       "7278        2022-03-25  8314.099609  8363.200195  8286.500000  8330.599609   \n",
       "7279        2022-03-28  8354.400391  8485.700195  8354.400391  8365.599609   \n",
       "7280        2022-03-29  8451.000000  8621.000000  8419.700195  8614.599609   \n",
       "7281        2022-03-30  8583.299805  8597.400391  8508.900391  8550.599609   \n",
       "7282        2022-03-31  8562.599609  8588.299805  8445.099609  8445.099609   \n",
       "\n",
       "              Adj Close       Volume  Target  \n",
       "test_index                                    \n",
       "6557        9150.500000  158753000.0       1  \n",
       "6558        9169.200195  212720900.0       1  \n",
       "6559        9236.099609  150664700.0       1  \n",
       "6560        9294.099609  102323700.0       0  \n",
       "6561        9282.099609  144701200.0       0  \n",
       "...                 ...          ...     ...  \n",
       "7278        8330.599609  156189000.0       1  \n",
       "7279        8365.599609  167961800.0       1  \n",
       "7280        8614.599609  257812200.0       0  \n",
       "7281        8550.599609  185389000.0       0  \n",
       "7282        8445.099609  220117500.0       0  \n",
       "\n",
       "[726 rows x 8 columns]"
      ]
     },
     "execution_count": 7,
     "metadata": {},
     "output_type": "execute_result"
    }
   ],
   "source": [
    "test_target_size = len(df_test)\n",
    "target = np.zeros(test_target_size).astype(int)\n",
    "for test_index in range(test_target_size-3):\n",
    "    target[test_index] = df_test.iloc[test_index+3][CLOSE] > df_test.iloc[test_index][CLOSE]\n",
    "\n",
    "df_test[TARGET] = target\n",
    "df_test\n",
    "\n",
    "# NOTE: We should have to drop the last 3 rows because we have no further data, but i don't clearly now if the json has to contain all the indexes ...\n",
    "# df_test = df_test.iloc[:-3,:]"
   ]
  },
  {
   "cell_type": "code",
   "execution_count": 8,
   "metadata": {},
   "outputs": [],
   "source": [
    "from sklearn.tree import DecisionTreeClassifier\n",
    "from sklearn.ensemble import RandomForestClassifier, RandomForestRegressor\n",
    "from sklearn.metrics import f1_score, max_error, mean_squared_error, mean_absolute_error\n",
    "\n",
    "X_train = df_train.iloc[:, :-1]\n",
    "y_train = df_train[TARGET]"
   ]
  },
  {
   "cell_type": "markdown",
   "metadata": {},
   "source": [
    "# **Model-1: Decision Tree Classifier**"
   ]
  },
  {
   "cell_type": "code",
   "execution_count": 9,
   "metadata": {},
   "outputs": [],
   "source": [
    "from sklearn.tree import DecisionTreeClassifier\n",
    "clf = DecisionTreeClassifier(\n",
    "    max_depth=20\n",
    ")"
   ]
  },
  {
   "cell_type": "code",
   "execution_count": 10,
   "metadata": {},
   "outputs": [
    {
     "data": {
      "text/plain": [
       "DecisionTreeClassifier(max_depth=20)"
      ]
     },
     "execution_count": 10,
     "metadata": {},
     "output_type": "execute_result"
    }
   ],
   "source": [
    "clf.fit(X_train, y_train)"
   ]
  },
  {
   "cell_type": "code",
   "execution_count": 11,
   "metadata": {},
   "outputs": [],
   "source": [
    "# Testing dataset\n",
    "X_test = df_test.iloc[:, 1:-1]\n",
    "y_test = df_test[TARGET]\n",
    "\n",
    "# Predictions\n",
    "y_pred = clf.predict(X_test)"
   ]
  },
  {
   "cell_type": "code",
   "execution_count": 12,
   "metadata": {},
   "outputs": [
    {
     "data": {
      "text/plain": [
       "0.4957050213648636"
      ]
     },
     "execution_count": 12,
     "metadata": {},
     "output_type": "execute_result"
    }
   ],
   "source": [
    "f1_score(\n",
    "    average='macro',\n",
    "    y_true=y_test,\n",
    "    y_pred=y_pred\n",
    ")"
   ]
  },
  {
   "cell_type": "markdown",
   "metadata": {},
   "source": [
    "We can see that the score is around 50%, that is to say that the score always will have a random factor of 50% chance.\n",
    "Normalizing the data on Trees does not affect that much, but we could iterate and visualize for each depth that we append how te score varies"
   ]
  },
  {
   "cell_type": "code",
   "execution_count": 35,
   "metadata": {},
   "outputs": [
    {
     "name": "stdout",
     "output_type": "stream",
     "text": [
      "0.5255598084848161 (array([37]),)\n"
     ]
    },
    {
     "data": {
      "text/plain": [
       "[<matplotlib.lines.Line2D at 0x7f945fa53b50>]"
      ]
     },
     "execution_count": 35,
     "metadata": {},
     "output_type": "execute_result"
    },
    {
     "data": {
      "image/png": "[encoded data removed]",
      "text/plain": [
       "<Figure size 640x480 with 1 Axes>"
      ]
     },
     "metadata": {},
     "output_type": "display_data"
    }
   ],
   "source": [
    "depths = np.array(range(100))\n",
    "scores = np.zeros(100)\n",
    "\n",
    "for depth in depths[1:]:\n",
    "    clf = DecisionTreeClassifier(max_depth=depth)\n",
    "    clf.fit(X_train, y_train)\n",
    "\n",
    "    scores[depth] = f1_score(\n",
    "        average='macro',\n",
    "        y_true=y_test,\n",
    "        y_pred=clf.predict(X_test)\n",
    "    )\n",
    "\n",
    "print(max(scores), np.where(scores == max(scores)))\n",
    "plt.plot(depths, scores)"
   ]
  },
  {
   "cell_type": "code",
   "execution_count": 37,
   "metadata": {},
   "outputs": [
    {
     "data": {
      "text/plain": [
       "0.5036025071850163"
      ]
     },
     "execution_count": 37,
     "metadata": {},
     "output_type": "execute_result"
    }
   ],
   "source": [
    "clf = DecisionTreeClassifier(max_depth=50)\n",
    "clf.fit(X_train, y_train)\n",
    "\n",
    "y_pred = clf.predict(X_test)\n",
    "f1_score(\n",
    "    average='macro',\n",
    "    y_true=y_test,\n",
    "    y_pred=y_pred\n",
    ")"
   ]
  },
  {
   "cell_type": "code",
   "execution_count": 40,
   "metadata": {},
   "outputs": [],
   "source": [
    "df_pred = pd.DataFrame(\n",
    "    data = y_pred,\n",
    "    columns=[TARGET],\n",
    "    index=df_test.index\n",
    ")\n",
    "\n",
    "df_test\n",
    "df_pred.to_csv('predictions.csv')\n",
    "df_pred.to_json('predictions.json')"
   ]
  },
  {
   "cell_type": "markdown",
   "metadata": {},
   "source": [
    "> NOTE: Finally we can see that using decission trees (as we could've expected) the prediction chance is around 50%. Obvioulsy incrementing the number of the depth we are overfitting the model putting **too much noise** and the model would perform even worse."
   ]
  },
  {
   "cell_type": "markdown",
   "metadata": {},
   "source": [
    "# **Model-2: Random Forest Classifier**"
   ]
  },
  {
   "cell_type": "code",
   "execution_count": 17,
   "metadata": {},
   "outputs": [
    {
     "data": {
      "text/plain": [
       "0.48595309960529365"
      ]
     },
     "execution_count": 17,
     "metadata": {},
     "output_type": "execute_result"
    }
   ],
   "source": [
    "clf = RandomForestClassifier(n_estimators=25)\n",
    "clf.fit(X_train, y_train)\n",
    "\n",
    "f1_score(\n",
    "    average='macro',\n",
    "    y_true=y_test,\n",
    "    y_pred=clf.predict(X_test)\n",
    ")"
   ]
  },
  {
   "cell_type": "markdown",
   "metadata": {},
   "source": [
    "> NOTE: Finally, we've seen that using decision trees the score is low around 50% as we could've have expected."
   ]
  },
  {
   "cell_type": "markdown",
   "metadata": {},
   "source": [
    "# **Model-3: Linear Regression || Random Forest Regressor**"
   ]
  },
  {
   "cell_type": "code",
   "execution_count": null,
   "metadata": {},
   "outputs": [],
   "source": [
    "from sklearn.linear_model import LinearRegression\n",
    "\n",
    "pd.options.mode.chained_assignment = None # For ignoring the warnings of copy operations (we should have to investigate the reason of the warnings ...)\n",
    "close_3_days = np.zeros(len(X_train))\n",
    "\n",
    "for date in range(len(X_train) - 3):\n",
    "    # NOTE: This is an approximation, because on the dataset there are missing\n",
    "    # dates between rows. For know i've ignored this fact (we could fill a value \n",
    "    # on a certain period of time, ...)\n",
    "    close_3_days[date] = df_train.iloc[date+3][CLOSE]\n",
    "\n",
    "# Adding the closing price \"3\" days ahead from the actual day\n",
    "df_train[f'{CLOSE}-3'] = close_3_days\n",
    "\n",
    "# We add also a row for checking the given TARGET vector prediction vs my approximated \n",
    "# TARGET.\n",
    "df_train[f'{TARGET}-check'] = df_train[f'{CLOSE}-3'] > df_train[CLOSE]\n",
    "df_train[f'{TARGET}-check'] = df_train[f'{TARGET}-check'].astype(int)\n",
    "\n",
    "print(f1_score(df_train[f'{TARGET}-check'],df_train[TARGET])) \n",
    "# 0.9822209268434859 (OK! the missing rows does not affect the TARGET vector with my approx)\n",
    "\n",
    "df_train.head(20)"
   ]
  },
  {
   "cell_type": "code",
   "execution_count": null,
   "metadata": {},
   "outputs": [],
   "source": [
    "X_train = df_train.drop([f'{CLOSE}-3', TARGET, f'{TARGET}-check'], axis=1)\n",
    "y_train = df_train[f'{CLOSE}-3']\n",
    "\n",
    "reg = LinearRegression()\n",
    "# reg = RandomForestRegressor()\n",
    "\n",
    "reg.fit(X_train, y_train)"
   ]
  },
  {
   "cell_type": "code",
   "execution_count": null,
   "metadata": {},
   "outputs": [],
   "source": [
    "df_test = pd.read_csv('test_x.csv', index_col=1, parse_dates=True)\n",
    "close_3_days = np.zeros(len(X_test))\n",
    "\n",
    "for date in range(len(X_test) - 3):\n",
    "    # NOTE: This is an approximation, because on the dataset there are missing\n",
    "    # dates between rows. For know i've ignored this fact (we could fill a value \n",
    "    # on a certain period of time, ...)\n",
    "    close_3_days[date] = df_test.iloc[date+3][CLOSE]\n",
    "\n",
    "# Adding the closing price \"3\" days ahead from the actual day\n",
    "df_test[f'{CLOSE}-3'] = close_3_days\n",
    "\n",
    "# Adding a TARGET testing vector\n",
    "df_test[TARGET] = df_test[f'{CLOSE}-3'] > df_test[CLOSE]\n",
    "df_test[TARGET] = df_test[TARGET].astype(int)\n",
    "\n",
    "df_test"
   ]
  },
  {
   "cell_type": "code",
   "execution_count": null,
   "metadata": {},
   "outputs": [],
   "source": [
    "X_test = df_test.drop([TEST_INDEX, f'{CLOSE}-3', TARGET], axis=1)\n",
    "y_test = df_test[f'{CLOSE}-3']"
   ]
  },
  {
   "cell_type": "code",
   "execution_count": null,
   "metadata": {},
   "outputs": [],
   "source": [
    "y_pred = reg.predict(X_test)\n",
    "y_pred = pd.DataFrame(data=y_pred, columns=[CLOSE], index=X_test.index)\n",
    "\n",
    "plt.title('Close price prediction')\n",
    "plt.ylabel(CLOSE)\n",
    "plt.xlabel(DATE)\n",
    "plt.xticks(rotation=45)\n",
    "plt.plot(y_test[:-3], label='test')\n",
    "plt.plot(y_pred[:-3], color='red', label='test-pred')\n",
    "plt.legend()\n",
    "plt.show()\n",
    "\n",
    "plt.title('Close price prediction (All history)')\n",
    "plt.ylabel(CLOSE)\n",
    "plt.xlabel(DATE)\n",
    "plt.plot(y_train[:-3], label='train')\n",
    "plt.plot(y_test[:-3], color ='green', label='test')\n",
    "plt.plot(y_pred[:-3], color='red', label='test-pred')\n",
    "plt.legend()\n",
    "plt.show()"
   ]
  },
  {
   "cell_type": "code",
   "execution_count": null,
   "metadata": {},
   "outputs": [],
   "source": [
    "print('> MAX:', max_error(y_true=y_test, y_pred=y_pred))\n",
    "print('> MSE:', mean_squared_error(y_true=y_test, y_pred=y_pred))\n",
    "print('> MAE:', mean_absolute_error(y_true=y_test, y_pred=y_pred))"
   ]
  },
  {
   "cell_type": "markdown",
   "metadata": {},
   "source": [
    "Clearly we can see that the mean absolute error is around 175, if the MAE mantains it's value we could say approx. that:\n",
    "\n",
    "\\begin{align}\n",
    "    close_{day+3} = close_{day+3} \\pm 180\n",
    "\\end{align}"
   ]
  },
  {
   "cell_type": "code",
   "execution_count": null,
   "metadata": {},
   "outputs": [],
   "source": [
    "df_test[f'{CLOSE}-3-pred'] = y_pred\n",
    "df_test[f'{TARGET}-pred'] = df_test[f'{CLOSE}-3-pred'] + 30 > df_test[CLOSE]\n",
    "df_test[f'{TARGET}-pred'] = df_test[f'{TARGET}-pred'].astype(int)\n",
    "\n",
    "df_test\n",
    "\n",
    "f1_score(\n",
    "    average='macro',\n",
    "    y_true=df_test[TARGET],\n",
    "    y_pred=df_test[f'{TARGET}-pred']\n",
    ")"
   ]
  },
  {
   "cell_type": "markdown",
   "metadata": {},
   "source": [
    "Not a very good result"
   ]
  },
  {
   "cell_type": "markdown",
   "metadata": {},
   "source": [
    "# **Neural Network**"
   ]
  },
  {
   "cell_type": "code",
   "execution_count": null,
   "metadata": {},
   "outputs": [],
   "source": [
    "from sklearn.neural_network import MLPClassifier, MLPRegressor\n",
    "from sklearn.preprocessing import MinMaxScaler\n",
    "\n",
    "scaler = MinMaxScaler()\n",
    "\n",
    "df_test = pd.read_csv('test_x.csv', index_col=1, parse_dates=True)\n",
    "\n",
    "test_target_size = len(df_test)\n",
    "target = np.zeros(test_target_size).astype(int)\n",
    "for test_index in range(test_target_size-3):\n",
    "    target[test_index] = df_test.iloc[test_index+3][CLOSE] > df_test.iloc[test_index][CLOSE]\n",
    "\n",
    "df_test[TARGET] = target\n",
    "df_test\n",
    "\n",
    "X_train = df_train.iloc[:, :-3]\n",
    "y_train = df_train[TARGET]\n",
    "\n",
    "X_test = df_test.iloc[:, :-1].drop(TEST_INDEX, axis=1)\n",
    "y_test = df_test[TARGET]"
   ]
  },
  {
   "cell_type": "code",
   "execution_count": null,
   "metadata": {},
   "outputs": [],
   "source": [
    "# NOTE: Very important to scale the data!\n",
    "X_train = scaler.fit_transform(X_train)\n",
    "X_test = scaler.fit_transform(X_test)"
   ]
  },
  {
   "cell_type": "code",
   "execution_count": null,
   "metadata": {},
   "outputs": [],
   "source": [
    "mlp = MLPClassifier(\n",
    "    solver='sgd',\n",
    "    activation='tanh',\n",
    "    alpha=0.05,\n",
    "    hidden_layer_sizes=(70, 70)\n",
    ")\n",
    "\n",
    "mlp.fit(X_train, y_train)\n",
    "y_pred = mlp.predict(X_test)\n",
    "\n",
    "y_pred"
   ]
  },
  {
   "cell_type": "markdown",
   "metadata": {},
   "source": [
    "# **Conclusions**\n",
    "\n",
    "Finally, we did not archive great results, the best f1_score has been 50% approx."
   ]
  },
  {
   "cell_type": "markdown",
   "metadata": {},
   "source": []
  }
 ],
 "metadata": {
  "interpreter": {
   "hash": "146ff4d4e95365fa26ba7fc1764a6093f04b3116fc873933f4dbdff4cbbe4458"
  },
  "kernelspec": {
   "display_name": "Python 3.9.7 ('base')",
   "language": "python",
   "name": "python3"
  },
  "language_info": {
   "codemirror_mode": {
    "name": "ipython",
    "version": 3
   },
   "file_extension": ".py",
   "mimetype": "text/x-python",
   "name": "python",
   "nbconvert_exporter": "python",
   "pygments_lexer": "ipython3",
   "version": "3.9.7"
  },
  "orig_nbformat": 4
 },
 "nbformat": 4,
 "nbformat_minor": 2
}
